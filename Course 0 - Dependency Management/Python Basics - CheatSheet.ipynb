{
 "cells": [
  {
   "cell_type": "markdown",
   "metadata": {
    "id": "a9b6UVUxWWaj"
   },
   "source": [
    "We always start Python by importing the 'packages' that we want to work with. numpy and pandas are the two basic packages for working with data."
   ]
  },
  {
   "metadata": {
    "id": "MiH61Lv9WWao",
    "ExecuteTime": {
     "end_time": "2025-03-09T10:41:28.574651Z",
     "start_time": "2025-03-09T10:41:24.317395Z"
    }
   },
   "cell_type": "code",
   "source": [
    "import pandas as pd\n",
    "import numpy as np\n",
    "import matplotlib.pyplot as plt"
   ],
   "outputs": [],
   "execution_count": 4
  },
  {
   "metadata": {
    "id": "7Go__KgbWWaq"
   },
   "cell_type": "markdown",
   "source": "Some basic Python instructions"
  },
  {
   "cell_type": "code",
   "execution_count": null,
   "metadata": {
    "id": "5NCGtJWOWWar"
   },
   "outputs": [],
   "source": [
    "print(1+2)"
   ]
  },
  {
   "cell_type": "code",
   "execution_count": null,
   "metadata": {
    "id": "pOBEPjkTWWas"
   },
   "outputs": [],
   "source": [
    "x = 6\n",
    "y = 3"
   ]
  },
  {
   "cell_type": "code",
   "execution_count": null,
   "metadata": {
    "id": "kA57sWVzWWat"
   },
   "outputs": [],
   "source": [
    "print(x+y)"
   ]
  },
  {
   "cell_type": "code",
   "execution_count": null,
   "metadata": {
    "id": "Vps3cg-sWWat"
   },
   "outputs": [],
   "source": [
    "print(x*y)"
   ]
  },
  {
   "cell_type": "code",
   "execution_count": null,
   "metadata": {
    "id": "ISfC3u6BWWav"
   },
   "outputs": [],
   "source": [
    "print(x/y)"
   ]
  },
  {
   "cell_type": "markdown",
   "source": [
    "The first line imports NumPy, a favorite Python package for tasks like\n",
    "\n",
    "1. working with arrays (vectors and matrices)\n",
    "\n",
    "2. common mathematical functions like cos and sqrt\n",
    "\n",
    "3. generating random numbers\n",
    "\n",
    "4. linear algebra, etc.\n",
    "\n",
    "After import numpy as np we have access to these attributes via the syntax np.attribute.\n",
    "\n",
    "Here’s two more examples\n",
    "\n"
   ],
   "metadata": {
    "id": "7NBfbF2Z5zrG"
   }
  },
  {
   "cell_type": "markdown",
   "metadata": {
    "id": "fq2yXqL4WWaw"
   },
   "source": [
    "What if we had two rows / columns of data rather than just two numbers? Ignore the 'np.array' code written here for now."
   ]
  },
  {
   "cell_type": "code",
   "source": [
    "np.sqrt(4)"
   ],
   "metadata": {
    "id": "YNy05n2e6AFX"
   },
   "execution_count": null,
   "outputs": []
  },
  {
   "cell_type": "code",
   "source": [
    "np.log(4)"
   ],
   "metadata": {
    "id": "onV9OHK36CGy"
   },
   "execution_count": null,
   "outputs": []
  },
  {
   "cell_type": "markdown",
   "source": [
    "As stated above, NumPy is a Python package.\n",
    "\n",
    "Packages are used by developers to organize code they wish to share.\n",
    "\n",
    "In fact, a package is just a directory containing\n",
    "\n",
    "files with Python code — called modules in Python speak\n",
    "\n",
    "possibly some compiled code that can be accessed by Python (e.g., functions compiled from C or FORTRAN code)\n",
    "\n",
    "a file called **`__init__`**.py that specifies what will be executed when we type import package_name\n",
    "\n",
    "You can check the location of your **`__init__`**.py for NumPy in python by running the code:"
   ],
   "metadata": {
    "id": "qic_75Bx6SU_"
   }
  },
  {
   "cell_type": "code",
   "source": [
    "import numpy as np\n",
    "\n",
    "print(np.__file__)"
   ],
   "metadata": {
    "id": "6dmVhuPz6hEW",
    "ExecuteTime": {
     "end_time": "2025-03-09T10:40:59.041056Z",
     "start_time": "2025-03-09T10:40:59.036396Z"
    }
   },
   "outputs": [
    {
     "name": "stdout",
     "output_type": "stream",
     "text": [
      "C:\\Users\\ozcan\\PycharmProjects\\UCLouvain-LSM-Python-Finance\\.venv\\Lib\\site-packages\\numpy\\__init__.py\n"
     ]
    }
   ],
   "execution_count": 3
  },
  {
   "cell_type": "code",
   "execution_count": null,
   "metadata": {
    "id": "lyvB_OnIWWaw"
   },
   "outputs": [],
   "source": [
    "x = np.array([1, 2, 3, 4, 5])\n",
    "y = np.array([2, 4, 6, 8, 10])"
   ]
  },
  {
   "cell_type": "code",
   "execution_count": null,
   "metadata": {
    "id": "6QBltqGSWWax"
   },
   "outputs": [],
   "source": [
    "print(x*y)"
   ]
  },
  {
   "cell_type": "markdown",
   "metadata": {
    "id": "WQhoW2TXWWax"
   },
   "source": [
    "And what if we added some text instead of numbers?"
   ]
  },
  {
   "cell_type": "code",
   "execution_count": null,
   "metadata": {
    "id": "QItlD-_SWWay"
   },
   "outputs": [],
   "source": [
    "x = \"pink\"\n",
    "y = \"pineapple\""
   ]
  },
  {
   "cell_type": "code",
   "execution_count": null,
   "metadata": {
    "id": "Uag6GCxvWWay"
   },
   "outputs": [],
   "source": [
    "print(x+y)"
   ]
  },
  {
   "cell_type": "markdown",
   "metadata": {
    "id": "4k26L4CKWWay"
   },
   "source": [
    "But not all text calculations work..."
   ]
  },
  {
   "cell_type": "code",
   "execution_count": null,
   "metadata": {
    "id": "i0WE8mD4WWay"
   },
   "outputs": [],
   "source": [
    "print(x*y)"
   ]
  },
  {
   "cell_type": "markdown",
   "source": [
    "Items in lists are ordered, and duplicates are allowed in lists.\n",
    "\n"
   ],
   "metadata": {
    "id": "s8vnkCEU68Oi"
   }
  },
  {
   "cell_type": "code",
   "source": [
    "x = [10, 'foo', False]\n",
    "type(x)"
   ],
   "metadata": {
    "id": "mwAMMeIT7Aqb"
   },
   "execution_count": null,
   "outputs": []
  },
  {
   "cell_type": "markdown",
   "source": [
    "The first element of x is an integer, the next is a string, and the third is a Boolean value.\n",
    "\n",
    "When adding a value to a list, we can use the syntax list_name.append(some_value)\n",
    "\n"
   ],
   "metadata": {
    "id": "1sLqlJET7Gbz"
   }
  },
  {
   "cell_type": "code",
   "source": [
    "x"
   ],
   "metadata": {
    "id": "y-zyBjWs7G6I"
   },
   "execution_count": null,
   "outputs": []
  },
  {
   "cell_type": "code",
   "source": [
    "x.append(2.5)\n",
    "x"
   ],
   "metadata": {
    "id": "bEbt9KhX7CiR"
   },
   "execution_count": null,
   "outputs": []
  },
  {
   "cell_type": "markdown",
   "source": [
    "Here append() is what’s called a method, which is a function “attached to” an object—in this case, the list x.\n",
    "\n",
    "We’ll learn all about methods later on, but just to give you some idea,\n",
    "\n",
    "Python objects such as lists, strings, etc. all have methods that are used to manipulate data contained in the object.\n",
    "\n",
    "String objects have string methods, list objects have list methods, etc."
   ],
   "metadata": {
    "id": "o5HGsZM57M5F"
   }
  },
  {
   "cell_type": "markdown",
   "source": [
    "Lists in Python are zero-based (as in C, Java or Go), so the first element is referenced by x[0]"
   ],
   "metadata": {
    "id": "vs3oYd5y7VyV"
   }
  },
  {
   "cell_type": "code",
   "source": [
    "x[0]   # first element of x"
   ],
   "metadata": {
    "id": "bQi42EZY7QW1"
   },
   "execution_count": null,
   "outputs": []
  },
  {
   "cell_type": "code",
   "source": [
    "x[1]   # second element of x"
   ],
   "metadata": {
    "id": "LLCeXe937b-H"
   },
   "execution_count": null,
   "outputs": []
  },
  {
   "cell_type": "markdown",
   "source": [
    "The For Loop\n",
    "\n",
    "Unlike most other languages, Python knows the extent of the code block only from indentation.\n",
    "\n",
    "Let’s look at another example of a for loop"
   ],
   "metadata": {
    "id": "oM1YHkWv7hjn"
   }
  },
  {
   "cell_type": "code",
   "source": [
    "animals = ['dog', 'cat', 'bird']\n",
    "for animal in animals:\n",
    "    print(\"The plural of \" + animal + \" is \" + animal + \"s\")"
   ],
   "metadata": {
    "id": "IteTDKuZ7mIm"
   },
   "execution_count": null,
   "outputs": []
  },
  {
   "cell_type": "markdown",
   "source": [
    "\n",
    "The Python interpreter performs the following:\n",
    "\n",
    "For each element of the sequence, it “binds” the name variable_name to that element and then executes the code block."
   ],
   "metadata": {
    "id": "vAyJCQNE7rot"
   }
  },
  {
   "cell_type": "markdown",
   "source": [
    "Let’s do one more application before we turn to exercises.\n",
    "\n",
    "In this application, we plot the balance of a bank account over time.\n",
    "\n"
   ],
   "metadata": {
    "id": "j_9Jbgcq_Z-a"
   }
  },
  {
   "cell_type": "code",
   "source": [
    "\n",
    "\n",
    "r = 0.025         # interest rate\n",
    "T = 50            # end date\n",
    "b = np.empty(T+1) # an empty NumPy array, to store all b_t\n",
    "b[0] = 10         # initial balance\n",
    "\n",
    "for t in range(T):\n",
    "    b[t+1] = (1 + r) * b[t]\n",
    "\n",
    "plt.plot(b, label='bank balance')\n",
    "plt.legend()\n",
    "plt.show()"
   ],
   "metadata": {
    "id": "pjZ3mgpy7qrF"
   },
   "execution_count": null,
   "outputs": []
  },
  {
   "cell_type": "markdown",
   "metadata": {
    "id": "BoClcliSWWaz"
   },
   "source": [
    "Storing data in a dictionary"
   ]
  },
  {
   "cell_type": "code",
   "execution_count": null,
   "metadata": {
    "id": "YQYitYiYWWaz"
   },
   "outputs": [],
   "source": [
    "dict_grade = {\"Ann\" : 75, \"Paul\" : 74, \"Mary\" : 80, \"Bob\" :   \"I'm not a grade\"}"
   ]
  },
  {
   "cell_type": "code",
   "execution_count": null,
   "metadata": {
    "id": "Ru8L3fqjWWaz"
   },
   "outputs": [],
   "source": [
    "dict_grade.get(\"Ann\")"
   ]
  },
  {
   "cell_type": "code",
   "execution_count": null,
   "metadata": {
    "id": "eQxfQc2HWWaz"
   },
   "outputs": [],
   "source": [
    "dict_grade.get(\"Bob\")"
   ]
  },
  {
   "cell_type": "markdown",
   "metadata": {
    "id": "tRlmCfj7WWa0"
   },
   "source": [
    "What can I do to a given piece of data?"
   ]
  },
  {
   "cell_type": "code",
   "execution_count": null,
   "metadata": {
    "id": "7iBC-PLSWWa0"
   },
   "outputs": [],
   "source": [
    "x = np.array([1, 2, 3, 4, 5])\n",
    "\n",
    "dir(x)"
   ]
  },
  {
   "cell_type": "code",
   "execution_count": null,
   "metadata": {
    "id": "qgt_TGP_WWa0"
   },
   "outputs": [],
   "source": [
    "x.mean()"
   ]
  },
  {
   "cell_type": "code",
   "execution_count": null,
   "metadata": {
    "id": "cOx8_Uq8WWa1"
   },
   "outputs": [],
   "source": [
    "x.max()"
   ]
  },
  {
   "cell_type": "code",
   "execution_count": null,
   "metadata": {
    "id": "TSt6jgIWWWa1"
   },
   "outputs": [],
   "source": [
    "x.shape"
   ]
  },
  {
   "cell_type": "code",
   "source": [
    "import numpy as np                     # Load the library\n",
    "\n",
    "a = np.linspace(-np.pi, np.pi, 100)    # Create even grid from -π to π\n",
    "a"
   ],
   "metadata": {
    "id": "4zqDTwNi4Lua"
   },
   "execution_count": null,
   "outputs": []
  },
  {
   "cell_type": "code",
   "source": [
    "b = np.cos(a)                          # Apply cosine to each element of a\n",
    "c = np.sin(a)                          # Apply sin to each element of a"
   ],
   "metadata": {
    "id": "JyHqRG974M-j"
   },
   "execution_count": null,
   "outputs": []
  },
  {
   "cell_type": "markdown",
   "metadata": {
    "id": "Ww2dbEK2WWa1"
   },
   "source": [
    "Defining your own functions"
   ]
  },
  {
   "cell_type": "code",
   "source": [
    "def greetings(name):\n",
    "  '''write something here'''\n",
    "  print('Hello, ' + name + '. Good afternoon!' )\n"
   ],
   "metadata": {
    "id": "Wt9rUT4c5wT6"
   },
   "execution_count": null,
   "outputs": []
  },
  {
   "cell_type": "code",
   "source": [
    "greetings('Suwan')"
   ],
   "metadata": {
    "id": "I3oPs3ep9f76"
   },
   "execution_count": null,
   "outputs": []
  },
  {
   "cell_type": "code",
   "execution_count": null,
   "metadata": {
    "id": "GtsutjcsWWa1"
   },
   "outputs": [],
   "source": [
    "def celsius(fahrenheit):\n",
    "\n",
    "    '''A function to convert a temperature in fahrenheit into celsius'''\n",
    "\n",
    "    f = float(fahrenheit)\n",
    "    c = (f - 32) * 5 / 9\n",
    "    print('%s Fahrenheit, converted to Celsius, is: %s Celsius.' % (str(round(f,2)), str(round(c,2))))"
   ]
  },
  {
   "cell_type": "code",
   "execution_count": null,
   "metadata": {
    "id": "FYYFydNWWWa2"
   },
   "outputs": [],
   "source": [
    "celsius(92)"
   ]
  },
  {
   "cell_type": "code",
   "execution_count": null,
   "metadata": {
    "id": "Sl64Fx9OWWa2"
   },
   "outputs": [],
   "source": [
    "## Installing a package\n",
    "\n",
    "!pip install pandas"
   ]
  },
  {
   "cell_type": "markdown",
   "metadata": {
    "id": "51auhwfNWWa3"
   },
   "source": [
    "Now lets start to really use Python for data analysis. Here's some finance data I got from https://finance.yahoo.com/ for Tesla (TSLA) and Ford (F). Big thing to remember - data needs to be in the same folder as the code. In Google Colab, upload the data files to the folder. If you open the files beforehand make sure not to save as it might change file format if you are using a non-English Excel."
   ]
  },
  {
   "cell_type": "code",
   "source": [
    "\n",
    "from google.colab import files\n",
    "uploaded = files.upload()\n"
   ],
   "metadata": {
    "id": "ZcnQCkIHXyT0"
   },
   "execution_count": null,
   "outputs": []
  },
  {
   "cell_type": "code",
   "execution_count": null,
   "metadata": {
    "id": "2tOe_BLmWWa3"
   },
   "outputs": [],
   "source": [
    "tesla = pd.read_excel('TSLA.xlsx') # by convention we tend to use lowercase letters when naming datasets\n",
    "tesla.head(3)"
   ]
  },
  {
   "cell_type": "markdown",
   "source": [],
   "metadata": {
    "id": "_XHPYtQLYQRY"
   }
  },
  {
   "cell_type": "code",
   "execution_count": null,
   "metadata": {
    "id": "fF0lRZ9qWWa3"
   },
   "outputs": [],
   "source": [
    "ford = pd.read_excel('Ford.xlsx')\n",
    "ford.head()"
   ]
  },
  {
   "cell_type": "markdown",
   "metadata": {
    "id": "04VwOT_nWWa3"
   },
   "source": [
    "Let's explore these datasets"
   ]
  },
  {
   "cell_type": "code",
   "execution_count": null,
   "metadata": {
    "id": "_DbIWArSWWa3"
   },
   "outputs": [],
   "source": [
    "ford.info()"
   ]
  },
  {
   "cell_type": "code",
   "execution_count": null,
   "metadata": {
    "id": "Xa6E8wqVWWa4"
   },
   "outputs": [],
   "source": [
    "ford.describe()"
   ]
  },
  {
   "cell_type": "markdown",
   "metadata": {
    "id": "tbOg7r_8WWa4"
   },
   "source": [
    "Lets look at how to edit this dataframe\n",
    "1. Add a new column\n",
    "2. Delete a column\n",
    "3. Create a sub-dataframe"
   ]
  },
  {
   "cell_type": "code",
   "source": [
    "ford['new_close'] = ford['Close'] + 1"
   ],
   "metadata": {
    "id": "WRZkxvaKD5hk"
   },
   "execution_count": null,
   "outputs": []
  },
  {
   "cell_type": "code",
   "source": [
    "ford.head()"
   ],
   "metadata": {
    "id": "l1DlvoNmEMog"
   },
   "execution_count": null,
   "outputs": []
  },
  {
   "cell_type": "code",
   "execution_count": null,
   "metadata": {
    "id": "Yoc4Eue0WWa4"
   },
   "outputs": [],
   "source": [
    "# add a new column\n",
    "\n",
    "ford[\"double_close\"] = ford[\"Close\"] * 2\n",
    "\n",
    "ford.head()"
   ]
  },
  {
   "cell_type": "code",
   "execution_count": null,
   "metadata": {
    "id": "v3_X3ZGWWWa4"
   },
   "outputs": [],
   "source": [
    "# delete a column\n",
    "\n",
    "ford = ford.drop([\"new_close\"], axis=1)\n",
    "\n",
    "ford.head()"
   ]
  },
  {
   "cell_type": "code",
   "execution_count": null,
   "metadata": {
    "id": "1t_JrT0FWWa5"
   },
   "outputs": [],
   "source": [
    "# create a sub-dataframe\n",
    "\n",
    "mini_ford = ford[[\"Exchange Date\", \"Open\", \"Close\"]].copy()\n",
    "\n",
    "mini_ford.head()"
   ]
  },
  {
   "cell_type": "markdown",
   "metadata": {
    "id": "KmDqVZGcWWa5"
   },
   "source": [
    "Now let's tidy up the data to suit our needs\n",
    "\n",
    "1. Fix dates\n",
    "2. Drop unneeded columns\n",
    "3. Change names\n",
    "4. Add prefixes\n"
   ]
  },
  {
   "cell_type": "markdown",
   "metadata": {
    "id": "qoxX60f7WWa5"
   },
   "source": [
    "1. Fix dates"
   ]
  },
  {
   "cell_type": "code",
   "execution_count": null,
   "metadata": {
    "id": "Mq-4uepSWWa5"
   },
   "outputs": [],
   "source": [
    "# dates are messy. Use datetime to set date.\n",
    "\n",
    "tesla['date'] = pd.to_datetime(tesla['Exchange Date'], infer_datetime_format=True)\n",
    "ford['date'] = pd.to_datetime(ford['Exchange Date'], infer_datetime_format=True)\n",
    "tesla['date'].head()"
   ]
  },
  {
   "cell_type": "code",
   "execution_count": null,
   "metadata": {
    "id": "DjXhaIaKWWa6"
   },
   "outputs": [],
   "source": [
    "# now that we have dates correct, lets set date as index and see what that means\n",
    "\n",
    "tesla.set_index('date', inplace=True)\n",
    "ford.set_index('date', inplace=True)\n",
    "\n",
    "tesla.head()"
   ]
  },
  {
   "cell_type": "markdown",
   "metadata": {
    "id": "C-KPqtV5WWa6"
   },
   "source": [
    "Now drop unneeded columns"
   ]
  },
  {
   "cell_type": "markdown",
   "metadata": {
    "id": "KnECWPl0WWa6"
   },
   "source": [
    "Rename the columns in each dataset before merging the two datasets"
   ]
  },
  {
   "cell_type": "code",
   "execution_count": null,
   "metadata": {
    "id": "Mc8ybUg_WWa6"
   },
   "outputs": [],
   "source": [
    "# add a prefix (this isn't particularly important, I just want to show you how flexible Python is for working with data)\n",
    "\n",
    "ford = ford.add_prefix('ford_')\n",
    "tesla = tesla.add_prefix('tesla_')\n",
    "\n",
    "tesla.head()"
   ]
  },
  {
   "cell_type": "markdown",
   "metadata": {
    "id": "Fn1iaOedWWa6"
   },
   "source": [
    "Those column names don't look too good, so lets rename them"
   ]
  },
  {
   "cell_type": "code",
   "execution_count": null,
   "metadata": {
    "id": "8MRCOlxRWWa7"
   },
   "outputs": [],
   "source": [
    "tesla.rename(columns = {'tesla_Adj Close' : 'tesla_Close', 'tesla_Volume' : 'tesla_Volume'}, inplace = True)\n",
    "ford.rename(columns = {'ford_Adj Close' : 'ford_Close', 'ford_Volume' : 'ford_Volume'}, inplace = True)\n",
    "\n",
    "tesla.head()"
   ]
  },
  {
   "cell_type": "code",
   "execution_count": null,
   "metadata": {
    "id": "o3Ld58fNWWa7"
   },
   "outputs": [],
   "source": [
    "# merge the two datasets together\n",
    "\n",
    "cars = pd.merge(tesla, ford, left_index=True, right_index=True)\n",
    "\n",
    "cars.head()"
   ]
  },
  {
   "cell_type": "markdown",
   "metadata": {
    "id": "iZIgPJLyWWa7"
   },
   "source": [
    "Let's save our new dataset in case anything goes wrong"
   ]
  },
  {
   "cell_type": "code",
   "execution_count": null,
   "metadata": {
    "id": "i4o3tz_GWWa7"
   },
   "outputs": [],
   "source": [
    "cars.to_csv('Cars.csv')"
   ]
  },
  {
   "cell_type": "code",
   "execution_count": null,
   "metadata": {
    "id": "_QovQefhWWa7"
   },
   "outputs": [],
   "source": [
    "# we can now reopen it from our files if we wish (no need to though, its already open):\n",
    "# read_csv options: https://pandas.pydata.org/pandas-docs/stable/reference/api/pandas.read_csv.html\n",
    "\n",
    "cars = pd.read_csv('Cars.csv', index_col='date')\n",
    "cars.head()"
   ]
  },
  {
   "cell_type": "code",
   "source": [
    "cars.info()"
   ],
   "metadata": {
    "id": "_emFuDMoPu5G"
   },
   "execution_count": null,
   "outputs": []
  },
  {
   "cell_type": "markdown",
   "metadata": {
    "id": "VRpIgSdPWWa7"
   },
   "source": [
    "We'll create some new columns that will be useful in our analysis\n",
    "\n",
    "Generate monthly returns\n",
    "Generate static standard deviation measure"
   ]
  },
  {
   "cell_type": "code",
   "execution_count": null,
   "metadata": {
    "id": "hjrnuoIvWWa8"
   },
   "outputs": [],
   "source": [
    "# monthly returns\n",
    "\n",
    "cars['tesla_returns'] = cars['tesla_Close'] / cars['tesla_Close'].shift(1) - 1\n",
    "cars['ford_returns'] = cars['ford_Close'] / cars['ford_Close'].shift(1) - 1\n",
    "\n",
    "# or we can\n",
    "\n",
    "# cars['tesla_returns'] = cars['tesla_Close'].pct_change()\n",
    "# cars['ford_returns'] = cars['ford_Close'].pct_change()\n",
    "\n",
    "cars.head()"
   ]
  },
  {
   "cell_type": "code",
   "execution_count": null,
   "metadata": {
    "id": "6JZCpEdWWWa8"
   },
   "outputs": [],
   "source": [
    "# static standard deviation\n",
    "\n",
    "cars['tesla_std'] = cars['tesla_returns'].std()\n",
    "cars['ford_std'] = cars['ford_returns'].std()\n",
    "\n",
    "cars.head()"
   ]
  },
  {
   "cell_type": "markdown",
   "metadata": {
    "id": "YzeZilWYWWa8"
   },
   "source": [
    "Let's now do some initial charts"
   ]
  },
  {
   "cell_type": "code",
   "execution_count": null,
   "metadata": {
    "id": "wB-sw6CvWWa8"
   },
   "outputs": [],
   "source": [
    "# import packages\n",
    "\n",
    "import matplotlib.pyplot as plt\n",
    "import seaborn as sns"
   ]
  },
  {
   "cell_type": "code",
   "execution_count": null,
   "metadata": {
    "id": "WemOF2WVWWa9"
   },
   "outputs": [],
   "source": [
    "cars['tesla_returns'].plot();"
   ]
  },
  {
   "cell_type": "code",
   "execution_count": null,
   "metadata": {
    "id": "-BbxFpsNWWa9"
   },
   "outputs": [],
   "source": [
    "cars['tesla_Close'].plot();"
   ]
  },
  {
   "cell_type": "code",
   "execution_count": null,
   "metadata": {
    "id": "Y_pHMlFgWWa9"
   },
   "outputs": [],
   "source": [
    "# improved charting\n",
    "\n",
    "rolling = cars['tesla_returns'].rolling(12, center=True)\n",
    "\n",
    "data = pd.DataFrame({'monthly returns': cars['tesla_returns'],\n",
    "                     '3m rolling_mean': rolling.mean(),\n",
    "                     '3m rolling_std': rolling.std()})\n",
    "ax = data.plot(style=['-', '--', ':'])\n",
    "ax.lines[0].set_alpha(0.3)\n",
    "ax.tick_params(axis='x', rotation=45)"
   ]
  },
  {
   "cell_type": "markdown",
   "metadata": {
    "id": "AIB7-5pjWWa9"
   },
   "source": [
    "And even better charts"
   ]
  },
  {
   "cell_type": "code",
   "execution_count": null,
   "metadata": {
    "id": "2UOujdOtWWa-"
   },
   "outputs": [],
   "source": [
    "# install the necessary packages\n",
    "\n",
    "import sys\n",
    "!{sys.executable} -m pip install \"notebook>=5.3\" \"ipywidgets>=7.5\"\n",
    "!{sys.executable} -m pip install plotly==4.14.3"
   ]
  },
  {
   "cell_type": "code",
   "execution_count": null,
   "metadata": {
    "id": "vCYs8B_TWWa-"
   },
   "outputs": [],
   "source": [
    "# import the relevant package\n",
    "\n",
    "import plotly.express as px\n",
    "\n",
    "# create the charts\n",
    "\n",
    "fig = px.line(cars, x=cars.index, y=\"tesla_Close\", title='Tesla stock price')\n",
    "fig.show()"
   ]
  },
  {
   "cell_type": "code",
   "execution_count": null,
   "metadata": {
    "id": "g7--jhKHWWa-"
   },
   "outputs": [],
   "source": [
    "fig = px.bar(cars, x=cars.index, y=\"tesla_returns\", title='Tesla stock price')\n",
    "fig.show()"
   ]
  }
 ],
 "metadata": {
  "celltoolbar": "Slideshow",
  "kernelspec": {
   "display_name": "Python 3",
   "language": "python",
   "name": "python3"
  },
  "language_info": {
   "codemirror_mode": {
    "name": "ipython",
    "version": 3
   },
   "file_extension": ".py",
   "mimetype": "text/x-python",
   "name": "python",
   "nbconvert_exporter": "python",
   "pygments_lexer": "ipython3",
   "version": "3.8.3"
  },
  "colab": {
   "provenance": []
  }
 },
 "nbformat": 4,
 "nbformat_minor": 0
}
